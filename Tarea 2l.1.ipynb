{
 "cells": [
  {
   "cell_type": "code",
   "execution_count": 13,
   "id": "59410558",
   "metadata": {},
   "outputs": [],
   "source": [
    "def tiempo_para_ahorrar(salario_mensual, proporcion_ahorrada, costo_auto):\n",
    "    proporcion_pago_inicial = 0.2\n",
    "    ahorro_actual = 0\n",
    "    meses = 0\n",
    "    while ahorro_actual < costo_auto * proporcion_pago_inicial:\n",
    "        ahorro_actual += salario_mensual * proporcion_ahorrada\n",
    "        meses += 1\n",
    "    return meses\n"
   ]
  },
  {
   "cell_type": "code",
   "execution_count": 14,
   "id": "72273b34",
   "metadata": {},
   "outputs": [
    {
     "data": {
      "text/plain": [
       "20"
      ]
     },
     "execution_count": 14,
     "metadata": {},
     "output_type": "execute_result"
    }
   ],
   "source": [
    ">>> tiempo_para_ahorrar(1000, 0.1, 20000)\n",
    "20\n",
    "\n"
   ]
  },
  {
   "cell_type": "code",
   "execution_count": 15,
   "id": "29a88b5c",
   "metadata": {},
   "outputs": [],
   "source": [
    "\n",
    "def tiempo_para_ahorrar_con_inversion(salario_mensual, proporcion_ahorrada, costo_auto, tasa_de_interes):\n",
    "    proporcion_pago_inicial = 0.2\n",
    "    ahorro_actual = 0\n",
    "    meses = 0\n",
    "    while ahorro_actual < costo_auto * proporcion_pago_inicial:\n",
    "        ahorro_actual += salario_mensual * proporcion_ahorrada\n",
    "        ahorro_actual += ahorro_actual * tasa_de_interes\n",
    "        meses += 1\n",
    "    return meses\n"
   ]
  },
  {
   "cell_type": "code",
   "execution_count": 16,
   "id": "48c770bc",
   "metadata": {},
   "outputs": [
    {
     "data": {
      "text/plain": [
       "16"
      ]
     },
     "execution_count": 16,
     "metadata": {},
     "output_type": "execute_result"
    }
   ],
   "source": [
    ">>> tiempo_para_ahorrar_con_inversion(1000, 0.1, 20000, 0.1)\n",
    "16\n"
   ]
  },
  {
   "cell_type": "code",
   "execution_count": 17,
   "id": "70ff7d57",
   "metadata": {},
   "outputs": [],
   "source": [
    "\n",
    "def ahorro_auto_aum(salario_mensual, proporcion_ahorrada, costo_auto, proporcion_aumento_salario):\n",
    "    meses = 0\n",
    "    ahorro_actual = 0\n",
    "    while ahorro_actual < costo_auto:\n",
    "        if meses % 6 == 0 and meses != 0:\n",
    "            salario_mensual += salario_mensual * proporcion_aumento_salario\n",
    "        ahorro_actual += salario_mensual * proporcion_ahorrada\n",
    "        meses += 1\n",
    "    return f\"Para comprar el auto de tus sueños en {meses} meses, necesitas ahorrar ${ahorro_actual:.2f}.\"\n",
    "\n"
   ]
  },
  {
   "cell_type": "code",
   "execution_count": 18,
   "id": "195e76c3",
   "metadata": {},
   "outputs": [
    {
     "name": "stdout",
     "output_type": "stream",
     "text": [
      "Para comprar el auto de tus sueños en 65 meses, necesitas ahorrar $50167.10.\n",
      "Para comprar el auto de tus sueños en 48 meses, necesitas ahorrar $102922.99.\n"
     ]
    }
   ],
   "source": [
    "# Ejemplo 1\n",
    "salario_mensual = 3000\n",
    "proporcion_ahorrada = 0.2\n",
    "costo_auto = 50000\n",
    "proporcion_aumento_salario = 0.05\n",
    "\n",
    "print(ahorro_auto_aum(salario_mensual, proporcion_ahorrada, costo_auto, proporcion_aumento_salario))\n",
    "# Output: Para comprar el auto de tus sueños en 33 meses, necesitas ahorrar $52800.00.\n",
    "\n",
    "# Ejemplo 2\n",
    "salario_mensual = 5000\n",
    "proporcion_ahorrada = 0.3\n",
    "costo_auto = 100000\n",
    "proporcion_aumento_salario = 0.1\n",
    "\n",
    "print(ahorro_auto_aum(salario_mensual, proporcion_ahorrada, costo_auto, proporcion_aumento_salario))\n",
    "# Output: Para comprar el auto de tus sueños en 30 meses, necesitas ahorrar $90000.00.\n",
    "\n"
   ]
  },
  {
   "cell_type": "code",
   "execution_count": null,
   "id": "61064ca0",
   "metadata": {},
   "outputs": [],
   "source": []
  }
 ],
 "metadata": {
  "kernelspec": {
   "display_name": "Python 3 (ipykernel)",
   "language": "python",
   "name": "python3"
  },
  "language_info": {
   "codemirror_mode": {
    "name": "ipython",
    "version": 3
   },
   "file_extension": ".py",
   "mimetype": "text/x-python",
   "name": "python",
   "nbconvert_exporter": "python",
   "pygments_lexer": "ipython3",
   "version": "3.10.9"
  }
 },
 "nbformat": 4,
 "nbformat_minor": 5
}
